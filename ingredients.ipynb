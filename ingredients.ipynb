{
  "nbformat": 4,
  "nbformat_minor": 0,
  "metadata": {
    "colab": {
      "provenance": []
    },
    "kernelspec": {
      "name": "python3",
      "display_name": "Python 3"
    },
    "language_info": {
      "name": "python"
    }
  },
  "cells": [
    {
      "cell_type": "code",
      "execution_count": 1,
      "metadata": {
        "colab": {
          "base_uri": "https://localhost:8080/"
        },
        "id": "yMKgzj2AsBIv",
        "outputId": "b1299a2a-282e-4a1e-aaa1-51684d29c4c5"
      },
      "outputs": [
        {
          "output_type": "stream",
          "name": "stdout",
          "text": [
            "Drive already mounted at /content/drive; to attempt to forcibly remount, call drive.mount(\"/content/drive\", force_remount=True).\n"
          ]
        }
      ],
      "source": [
        "from google.colab import drive\n",
        "drive.mount('/content/drive')\n",
        "import pandas as pd\n",
        "ingre_list = pd.read_csv('/content/drive/My Drive/project mid/RAW_recipes.csv')['ingredients']\n",
        "main_data = pd.read_csv('/content/drive/My Drive/project mid/recipes.csv')"
      ]
    },
    {
      "cell_type": "code",
      "source": [
        "from itertools import chain\n",
        "ingre_list = ingre_list.str.replace(r'[\\[\\]\\'\"]', '', regex=True).apply(lambda x: x.split(', '))\n",
        "main_list = main_data['ingredients']\n",
        "new_list = list(set(chain.from_iterable(ingre_list)))\n",
        "new_list = [i for i in new_list if any(i in j for j in main_list)]"
      ],
      "metadata": {
        "id": "Q5EfZwPbok84"
      },
      "execution_count": 2,
      "outputs": []
    },
    {
      "cell_type": "code",
      "source": [
        "import re\n",
        "main_data['ingredients'] = main_list.str.replace(r' \\(.+?\\)', '', regex=True).str.replace('  ', ' ').str.strip()\n",
        "es_list = ['pinches', 'pouches', 'dashes', 'peaches', 'tomatoes', 'bunches', 'mangoes']\n",
        "exception = ['skinless', 'boneless', 'leaves', 'seedless', 'strawberries']\n",
        "def remove_word_tail(s):\n",
        "  for i in es_list:\n",
        "    s = s.replace(i, i[:-2])\n",
        "  lst = re.findall(r'(?<=[\\d½¾¼⅔⅓⅞⅝⅛⅜] )[^\\d½¾¼⅔⅓⅞⅝⅛⅜\\s]+s\\b', s)\n",
        "  lst = [i for i in lst if i not in exception]\n",
        "  for i in lst:\n",
        "    s = s.replace(i, i[:-1])\n",
        "  return s\n",
        "main_data['ingredients'] = main_data['ingredients'].apply(remove_word_tail).apply(lambda x: re.split(r', (?=[\\d½¾¼⅔⅓⅞⅝⅛⅜])', x))"
      ],
      "metadata": {
        "id": "pFt7MXK6szFp"
      },
      "execution_count": 3,
      "outputs": []
    },
    {
      "cell_type": "code",
      "source": [
        "from fractions import Fraction\n",
        "\n",
        "dict1 = {'½': '1/2', '¾': '3/4', '¼': '1/4', '⅔': '2/3', '⅓': '1/3', '⅞': '7/8', '⅝': '5/8', '⅛': '1/8', '⅜': '3/8'}\n",
        "def change_quantity(s):\n",
        "  for i in range(len(s)):\n",
        "    if re.search(r'\\d', s[i][0]):\n",
        "      s[i] = s[i].split(maxsplit = 1)\n",
        "      if s[i][1][0] in dict1:\n",
        "        s[i][0] = int(s[i][0]) + Fraction(dict1[s[i][1][0]])\n",
        "        s[i][1] = s[i][1].replace(f'{s[i][1][0]} ', '')\n",
        "      else:\n",
        "        s[i][0] = Fraction(s[i][0])\n",
        "    elif re.search(r'[½¾¼⅔⅓⅞⅝⅛⅜]', s[i][0]):\n",
        "      s[i] = s[i].split(maxsplit = 1)\n",
        "      s[i][0] = Fraction(dict1[s[i][0]])\n",
        "    else:\n",
        "      s[i] = [Fraction(0), s[i]]\n",
        "  return s\n",
        "main_data['ingredients'] = main_data['ingredients'].apply(change_quantity)"
      ],
      "metadata": {
        "id": "yH0ZG1OQGzQY"
      },
      "execution_count": 4,
      "outputs": []
    },
    {
      "cell_type": "code",
      "source": [
        "main_data['ingredients'] = main_data['ingredients'].apply(lambda x: {i[1]: i[0] for i in x})"
      ],
      "metadata": {
        "id": "CCyFVD7ll-r6"
      },
      "execution_count": 5,
      "outputs": []
    },
    {
      "cell_type": "code",
      "source": [
        "print(main_data['ingredients'].head())"
      ],
      "metadata": {
        "colab": {
          "base_uri": "https://localhost:8080/"
        },
        "id": "-YtuGEe3ntNq",
        "outputId": "5c4980f1-f8de-47e6-ee3d-ab6495522ce6"
      },
      "execution_count": 11,
      "outputs": [
        {
          "output_type": "stream",
          "name": "stdout",
          "text": [
            "0    {'tablespoon butter': 3, 'pound Granny Smith a...\n",
            "1    {'small Granny Smith apples, or as needed': 8,...\n",
            "2    {'apple - peeled, cored and chopped': 4, 'cup ...\n",
            "3    {'cup all-purpose apples, peeled, cored and sl...\n",
            "4    {'cup thinly sliced apples': 18, 'tablespoon l...\n",
            "Name: ingredients, dtype: object\n"
          ]
        }
      ]
    }
  ]
}